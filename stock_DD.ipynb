{
 "cells": [
  {
   "cell_type": "code",
   "execution_count": 1,
   "source": [
    "# !pip install transformers\n",
    "# !pip install sentencepiece\n",
    "# !pip3 install torch torchvision"
   ],
   "outputs": [],
   "metadata": {}
  },
  {
   "cell_type": "markdown",
   "source": [
    "# 1. Import necessary libraries"
   ],
   "metadata": {}
  },
  {
   "cell_type": "code",
   "execution_count": 2,
   "source": [
    "from bs4 import BeautifulSoup\n",
    "import requests\n",
    "from transformers import PegasusTokenizer, PegasusForConditionalGeneration"
   ],
   "outputs": [],
   "metadata": {}
  },
  {
   "cell_type": "markdown",
   "source": [
    "# 2. Setup Summarization Model"
   ],
   "metadata": {}
  },
  {
   "cell_type": "code",
   "execution_count": 3,
   "source": [
    "# Let's load the model and the tokenizer \n",
    "model_name = \"human-centered-summarization/financial-summarization-pegasus\"\n",
    "tokenizer = PegasusTokenizer.from_pretrained(model_name)\n",
    "model = PegasusForConditionalGeneration.from_pretrained(model_name) # If you want to use the Tensorflow model "
   ],
   "outputs": [],
   "metadata": {}
  },
  {
   "cell_type": "markdown",
   "source": [
    "# 3. Summarize a Single Article"
   ],
   "metadata": {}
  },
  {
   "cell_type": "code",
   "execution_count": 4,
   "source": [
    "# Load the webpage\n",
    "url = \"https://finance.yahoo.com/news/michael-burry-bets-heavily-against-205244988.html\"\n",
    "r = requests.get(url)\n",
    "soup = BeautifulSoup(r.content, \"html.parser\") # Convert into a bs4 object\n",
    "paragraphs = soup.find_all(\"p\")"
   ],
   "outputs": [],
   "metadata": {}
  },
  {
   "cell_type": "code",
   "execution_count": 5,
   "source": [
    "# Getting the text and storing it infront of a list\n",
    "text = []\n",
    "for paragraph in paragraphs:\n",
    "    text.append(paragraph.get_text())\n",
    "\n",
    "words = \" \".join(text).strip().split(\" \")[:512] # Combining the text from the list into a single string\n",
    "\n",
    "ARTICLE = \" \".join(words)[:512].strip()"
   ],
   "outputs": [],
   "metadata": {}
  },
  {
   "cell_type": "code",
   "execution_count": 6,
   "source": [
    "# Some text to summarize here\n",
    "text_to_summarize = ARTICLE\n",
    "\n",
    "# Tokenize our text\n",
    "# If you want to run the code in Tensorflow, please remember to return the particular tensors as simply as using return_tensors = 'tf'\n",
    "input_ids = tokenizer(text_to_summarize, return_tensors=\"pt\").input_ids\n",
    "\n",
    "# Generate the output (Here, we use beam search but you can also use any other strategy you like)\n",
    "output = model.generate(\n",
    "    input_ids, \n",
    "    max_length=32, \n",
    "    num_beams=5, \n",
    "    early_stopping=True\n",
    ")\n",
    "\n",
    "# Finally, we can print the generated summary\n",
    "summary = tokenizer.decode(output[0], skip_special_tokens=True)"
   ],
   "outputs": [
    {
     "output_type": "stream",
     "name": "stderr",
     "text": [
      "/opt/anaconda3/envs/stock-research-app/lib/python3.8/site-packages/torch/_tensor.py:575: UserWarning: floor_divide is deprecated, and will be removed in a future version of pytorch. It currently rounds toward 0 (like the 'trunc' function NOT 'floor'). This results in incorrect rounding for negative values.\n",
      "To keep the current behavior, use torch.div(a, b, rounding_mode='trunc'), or for actual floor division, use torch.div(a, b, rounding_mode='floor'). (Triggered internally at  /Users/distiller/project/conda/conda-bld/pytorch_1623459044803/work/aten/src/ATen/native/BinaryOps.cpp:467.)\n",
      "  return torch.floor_divide(self, other)\n"
     ]
    }
   ],
   "metadata": {}
  },
  {
   "cell_type": "code",
   "execution_count": 7,
   "source": [
    "summary"
   ],
   "outputs": [
    {
     "output_type": "execute_result",
     "data": {
      "text/plain": [
       "'Burry’s Scion Asset Management now owns 1.1 million put options.'"
      ]
     },
     "metadata": {},
     "execution_count": 7
    }
   ],
   "metadata": {}
  },
  {
   "cell_type": "markdown",
   "source": [
    "# 4. Building a News and Sentiment Pipeline"
   ],
   "metadata": {}
  },
  {
   "cell_type": "code",
   "execution_count": 8,
   "source": [
    "monitored_tickers = [\"MNMD\", \"GME\", \"TSLA\"]"
   ],
   "outputs": [],
   "metadata": {}
  },
  {
   "cell_type": "markdown",
   "source": [
    "# 4.1 Search for Stock News using Google and Yahoo Finance"
   ],
   "metadata": {}
  },
  {
   "cell_type": "code",
   "execution_count": 9,
   "source": [
    "def search_for_stock_news_urls(ticker):\n",
    "    # Load the webpage\n",
    "    search_url = \"https://www.google.com/search?q=yahoo+finance+{}&rlz&tbm=nws\".format(ticker)\n",
    "    r = requests.get(search_url)\n",
    "    soup = BeautifulSoup(r.content, \"html.parser\") # Convert into a bs4 object\n",
    "    atags = soup.find_all(\"a\") # Getting the links to the yahoo articles\n",
    "\n",
    "    # Creating an empty list and storing those links into a list\n",
    "    hrefs = []\n",
    "    for link in atags:\n",
    "        hrefs.append(link.get(\"href\"))\n",
    "    return hrefs"
   ],
   "outputs": [],
   "metadata": {}
  },
  {
   "cell_type": "code",
   "execution_count": 10,
   "source": [
    "raw_url = {}\n",
    "for ticker in monitored_tickers:\n",
    "    raw_url[ticker] = search_for_stock_news_urls(ticker)"
   ],
   "outputs": [],
   "metadata": {}
  },
  {
   "cell_type": "markdown",
   "source": [
    "# 4.2 Strip out unwanted URLs"
   ],
   "metadata": {}
  },
  {
   "cell_type": "code",
   "execution_count": 11,
   "source": [
    "import re"
   ],
   "outputs": [],
   "metadata": {}
  },
  {
   "cell_type": "code",
   "execution_count": 12,
   "source": [
    "excluded_list = [\"maps\", \"support\", \"accounts\", \"policies\", \"preferences\"] # if the link contains these words we want to take them out"
   ],
   "outputs": [],
   "metadata": {}
  },
  {
   "cell_type": "code",
   "execution_count": 13,
   "source": [
    "def strip_unwanted_urls(urls, excluded_list):\n",
    "    val = []\n",
    "    for url in urls:\n",
    "        if \"https://\" in url and not any(exclude_word in url for exclude_word in excluded_list):\n",
    "            res = re.findall(r\"(https?://\\S+)\", url)[0].split(\"&\")[0]\n",
    "            val.append(res)\n",
    "    return list(set(val))"
   ],
   "outputs": [],
   "metadata": {}
  },
  {
   "cell_type": "code",
   "execution_count": 14,
   "source": [
    "\n",
    "cleaned_url = {}\n",
    "for ticker in monitored_tickers:\n",
    "    cleaned_url[ticker] = strip_unwanted_urls(raw_url[ticker], excluded_list)\n",
    "\n",
    "cleaned_url"
   ],
   "outputs": [
    {
     "output_type": "execute_result",
     "data": {
      "text/plain": [
       "{'MNMD': ['https://finance.yahoo.com/news/mindmed-commence-trading-nasdaq-113000089.html',\n",
       "  'https://finance.yahoo.com/news/mindmed-begins-trading-nasdaq-113000860.html',\n",
       "  'https://finance.yahoo.com/news/psyched-field-trip-uplists-nasdaq-140833357.html',\n",
       "  'https://finance.yahoo.com/news/mindmed-announces-2021-q2-financial-035000827.html',\n",
       "  'https://finance.yahoo.com/news/psychedelic-drugmaker-mind-med-stumbles-in-nasdaq-debut-ceo-says-still-very-early-innings-104340252.html',\n",
       "  'https://finance.yahoo.com/news/mindmed-appoints-dr-robert-dworkin-113000291.html',\n",
       "  'https://finance.yahoo.com/news/mindmed-joins-critical-path-institutes-113000322.html',\n",
       "  'https://finance.yahoo.com/news/mindmed-joins-digital-medicine-society-113000450.html',\n",
       "  'https://finance.yahoo.com/news/field-trip-health-heads-nasdaq-210415485.html',\n",
       "  'https://finance.yahoo.com/news/mindmed-announces-partnership-datavant-leading-122000231.html'],\n",
       " 'GME': ['https://finance.yahoo.com/news/case-stock-market-bubble-speculation-193006728.html',\n",
       "  'https://finance.yahoo.com/news/robinhood-earnings-crypto-trading-skyrockets-in-q-2-202221624.html',\n",
       "  'https://finance.yahoo.com/news/2-wallstreetbets-stocks-wall-street-141910558.html',\n",
       "  'https://finance.yahoo.com/news/gainey-mckenna-egleston-announces-class-220300128.html',\n",
       "  'https://finance.yahoo.com/news/15-best-penny-stocks-buy-204206229.html',\n",
       "  'https://finance.yahoo.com/news/10-best-high-short-interest-170705857.html',\n",
       "  'https://finance.yahoo.com/news/10-most-shorted-stocks-reddit-011822797.html',\n",
       "  'https://finance.yahoo.com/news/gamestop-gains-amc-ceo-stokes-055344114.html',\n",
       "  'https://finance.yahoo.com/news/robinhood-dips-12-as-some-shareholders-file-to-sell-141203993.html',\n",
       "  'https://finance.yahoo.com/news/ripple-continues-asian-dominance-despite-104157038.html'],\n",
       " 'TSLA': ['https://finance.yahoo.com/news/teslas-ad-spending-may-zero-155427293.html',\n",
       "  'https://finance.yahoo.com/news/musks-ai-day-confronts-tough-215932257.html',\n",
       "  'https://finance.yahoo.com/news/tesla-autopilot-probe-could-hurt-the-technology-more-than-the-carmakers-bottomline-190135995.html',\n",
       "  'https://finance.yahoo.com/news/clover-health-amc-alibaba-wish-112532361.html',\n",
       "  'https://finance.yahoo.com/news/clover-health-wish-amc-tesla-092053110.html',\n",
       "  'https://finance.yahoo.com/news/had-5-000-now-put-130205630.html',\n",
       "  'https://finance.yahoo.com/news/why-tesla-will-beat-competition-on-auto-pilot-despite-probe-analyst-193603244.html',\n",
       "  'https://finance.yahoo.com/news/forget-tesla-tsla-10-cheap-163603326.html',\n",
       "  'https://finance.yahoo.com/news/teslas-stock-autopilot-probe-wedbush-145347827.html',\n",
       "  'https://finance.yahoo.com/news/company-lets-buy-tesla-dogecoin-000055624.html']}"
      ]
     },
     "metadata": {},
     "execution_count": 14
    }
   ],
   "metadata": {}
  },
  {
   "cell_type": "markdown",
   "source": [
    "# 4.3 Search and Scrape Cleaned URLs"
   ],
   "metadata": {}
  },
  {
   "cell_type": "code",
   "execution_count": 15,
   "source": [
    "def scrape_and_process(URLS):\n",
    "    ARTICLES = []\n",
    "    for url in URLS:\n",
    "        # Load the webpage\n",
    "        r = requests.get(url)\n",
    "        soup = BeautifulSoup(r.content, \"html.parser\") # Convert into a bs4 object\n",
    "        paragraphs = soup.find_all(\"p\")\n",
    "\n",
    "        # Getting the text and storing it infront of a list\n",
    "        text = []\n",
    "        for paragraph in paragraphs:\n",
    "            text.append(paragraph.get_text())\n",
    "\n",
    "        words = \" \".join(text).strip().split(\" \")[:400] # Combining the text from the list into a single string\n",
    "\n",
    "        ARTICLE = \" \".join(words)[:400].strip()\n",
    "        ARTICLES.append(ARTICLE)\n",
    "    return ARTICLES"
   ],
   "outputs": [],
   "metadata": {}
  },
  {
   "cell_type": "code",
   "execution_count": 16,
   "source": [
    "articles = {}\n",
    "for ticker in monitored_tickers:\n",
    "    articles[ticker] = scrape_and_process(cleaned_url[ticker])\n",
    "\n",
    "articles"
   ],
   "outputs": [
    {
     "output_type": "execute_result",
     "data": {
      "text/plain": [
       "{'MNMD': ['Thank you for your patience. Our engineers are working quickly to resolve the issue.',\n",
       "  'Thank you for your patience. Our engineers are working quickly to resolve the issue.',\n",
       "  'Last week in Psychedelics: Field Trip Begins Trading On The Nasdaq MindMed Launches Phase 1 Trials On DMT Atai Launches New \"Nose-To-Brain\" Drug Delivery Company  Braxia Scientific Receives Funding From Canadian Government To Study Ketamine Therapy AOC\\'s Amendment To Allow Federal Research Into Benefits Of Psychedelics Rejected By House Again Australia Launches Psychedelics Research Institute With',\n",
       "  'NEW YORK, Aug. 12, 2021 /CNW/ -- MindMed (Nasdaq: MNMD), (NEO: MMED), (DE: MMQ), a leading biotech company developing psychedelic-inspired therapies, has announced its quarterly financial results for the quarter ended June 30, 2021. Q2 2021 Financial Highlights (in USD) Total assets as of June 30, 2021 were $194 million, including $157 million in cash Net Cash Used in Operating Activities of $12 m',\n",
       "  'Thank you for your patience. Our engineers are working quickly to resolve the issue.',\n",
       "  'NEW YORK, Aug. 10, 2021 /PRNewswire/ -- MindMed (NASDAQ: MNMD) (NEO: MMED) (DE: MMQ), a leading biotech company developing psychedelic-inspired therapies, announces the addition of Robert H. Dworkin, Ph.D. to its Scientific Advisory Board. Dr. Dworkin has spent over 35 years conducting clinical research on pain. He is currently Professor of Anesthesiology and Perioperative Medicine, Neurology, and',\n",
       "  'NEW YORK, Aug. 17, 2021 /PRNewswire/ -- Mind Medicine (MindMed) Inc. (NASDAQ: MNMD), (NEO: MMED), (DE: MMQ) (the \"Company\"), a leading biotech company developing psychedelic-inspired therapies, has joined the Critical Path Institute\\'s (\"C-Path\\'s\") Patient-Reported Outcome (PRO) Consortium to assist in the development of new approaches to advance medical innovation and regulatory science. C-Path (',\n",
       "  \"NEW YORK, Aug. 3, 2021 /PRNewswire/ -- MindMed (NASDAQ: MNMD) (NEO: MMED) (DE: MMQ), a leading biotech company developing psychedelic-inspired therapies, announced today that it will participate in and financially support the Digital Medicine Society's (DiMe) Digital Health Measurement Collaborative Community (DATAcc), an effort to develop best practices and streamline the medical field's approach\",\n",
       "  'Thank you for your patience. Our engineers are working quickly to resolve the issue.',\n",
       "  'Thank you for your patience. Our engineers are working quickly to resolve the issue.'],\n",
       " 'GME': [\"The SPDR S&P 500 ETF Trust (NYSE: SPY) has more than doubled off its 2020 pandemic lows, and the S&P 500’s valuation is looking extremely stretched based on a number of traditional stock market valuation metrics. Stansberry Research lead editor Dan Ferris recently discussed the extremes in investor sentiment in today’s market and how he believes it's an obvious red flag and warning sign of a stock\",\n",
       "  'Robinhood\\'s (HOOD) revenue based on crypto transactions skyrocketed in the 2nd quarter, with more than 60% of its users trading digital currencies. However the company warned of lower revenue expectations for the third quarter. Shares fell about 5% in after hours.\\xa0 \"For the three months ended Sept 30, 2021, we expect seasonal headwinds and lower trading activity across the industry to result in lo',\n",
       "  'Subreddit r/wallstreetbets was thrust into the spotlight with the epic GameStop (GME) short squeeze earlier this year. While red-hot rallies in some of the famous names triggered by the Reddit forum have begun to fizzle out, some new names continue to attract Wall Street’s attention because of their promising long-term growth prospects. SoFi Technologies (SOFI) and Virgin Galactic Holdings (SPCE)',\n",
       "  'NEW YORK, Aug. 19, 2021 (GLOBE NEWSWIRE) -- Gainey McKenna & Egleston announces that a class action lawsuit has been filed against View, Inc. (f/k/a CF Finance Acquisition Corp. II) (“View” or the “Company”) (NASDAQ: VIEW) in the United States District Court for the Northern District of California on behalf of those who purchased or otherwise acquired View publicly traded securities between Novemb',\n",
       "  'In this article, we discuss the 15 best penny stocks to buy now. If you want to skip our detailed analysis of these stocks, go directly to the 5 Best Penny Stocks to Buy Now. Retail investors who do not have the billions of dollars that institutional investors have access to often look towards penny stocks as an entry into the world of investing. This strategy often proves to be fruitful since res',\n",
       "  'In this article, we discuss the 10 best high short interest stocks to buy now. If you want to skip our detailed analysis of these stocks, go directly to the 5 Best High Short Interest Stocks to Buy Now. Stocks with high short interest have dominated the headlines in the finance world for a good part of this year. In January, the GameStop Corp. (NYSE: GME) and AMC Entertainment Holdings, Inc. (NYSE',\n",
       "  \"In this article, we discuss the 10 most-shorted stocks Reddit's WallStreetBets is paying attention to. If you want to skip our detailed analysis of these stocks, go directly to the 5 Most-Shorted Stocks Reddit's WallStreetBets Is Paying Attention To. Reddit forum WallStreetBets, with a user base of well over 10.7 million and growing, rose to prominence in the finance world after it was identified\",\n",
       "  'By Dhirendra Tripathi Investing.com – Meme stock favorite GameStop (NYSE:GME) was up more than 2% in Tuesday’s premarket after movie chain operator AMC Entertainment (NYSE:AMC) Chief Executive Officer Adam Aron said Monday he was looking to pursue some sort of partnership between the two companies. \"I cannot even count the number of times already that our shareholders have asked us to reach out an',\n",
       "  \"Robinhood (HOOD) shares tanked 27% to close the session at $50.27 after several wild sessions. Thursday's decline followed an announcement that some stockholders would be cashing out up to 97.8 million shares. The news came after a massive two-day rally. The investment platform's shares had gained 100% earlier this week. Robinhood appears to be the newest meme stock on the Wall Street, highlightin\",\n",
       "  'Ripple has been making massive progress in Asia, with its ongoing legal case in the United States not standing in the way of its expansion in the continent. Blockchain firm Ripple announced yesterday that one of South Korea’s cross-border remittance companies, Global Money Express Co. Ltd (GME Remittance), has joined its RippleNet network. The move would make it easier for GME Remittance to carry'],\n",
       " 'TSLA': [\"Unlike traditional automakers, which aggressively spend on advertising, electric vehicle giant Tesla, Inc. (NASDAQ: TSLA) allocates virtually nothing for this avenue of promotion. Loup Funds' Gene Munster delved into the prospects of Tesla eventually warming up to ads and the likely impact on its margins. Will Tesla Advertise?  Tesla CEO Elon Musk is not a big fan of traditional advertising but ha\",\n",
       "  'Another 348,000 Americans filed claims, lower than expected and the fourth straight weekly decline  By Hyunjoo Jin SAN FRANCISCO (Reuters) - At Tesla\\'s \"Autonomy Day\" event in April 2019, Chief Executive Elon Musk said that by mid-2020 Tesla would have over a million self-driving vehicles where riders \"could go to sleep\" during a trip. Tesla has not achieved that goal and on Thursday Musk is stagi',\n",
       "  'Another 348,000 Americans filed claims, lower than expected and the fourth straight weekly decline  This article was first featured in Yahoo Finance Tech, a weekly newsletter highlighting our original content on the industry. Get it sent directly to your inbox every Wednesday by 4 p.m. ET. Subscribe The National Highway Traffic Safety Administration’s probe into 11 crashes of Teslas (TSLA) using t',\n",
       "  'Clover Health Investments Corp. (NASDAQ: CLOV), AMC Entertainment Holdings Inc. (NYSE: AMC), Alibaba Group Holding Ltd. (NYSE: BABA) and ContextLogic Inc. (NASDAQ: WISH) are among the stocks seeing the highest interest on Reddit’s r/WallStreetBets forum as of Tuesday night. What Happened: Exchange-traded fund S&P SPDR 500 ETF Trust (NYSE: SPY) is the most-discussed stock on the forum with 1,007 me',\n",
       "  'Clover Health Investments Corp. (NASDAQ: CLOV), ContextLogic Inc. (NASDAQ: WISH), AMC Entertainment Holdings Inc. (NYSE: AMC) and Tesla Inc. (NASDAQ: TSLA) are among the stocks seeing the highest interest on Reddit’s r/WallStreetBets forum as of Monday night. What Happened: Exchange-traded fund S&P SPDR 500 ETF Trust (NYSE: SPY) is the most discussed stock on the forum with 903 mentions, while Med',\n",
       "  'Every week, Benzinga conducts a survey to collect sentiment on what traders are most excited about, interested in or thinking about as they manage and build their personal portfolios. This week we posed the following question to over 2,000 Benzinga visitors on clean energy investing: If you had $5,000, would you put it on Tesla Inc (NASDAQ: TSLA), Nio Inc - ADR (NYSE: NIO), Workhorse Group Inc (NA',\n",
       "  'Tesla (TSLA) is ready to highlight its artificial intelligence technology tonight. The electric vehicle giant will be streaming Autonomy Day highlighting its self-driving capabilities. The event also underscores the shortage of engineers which understand AI, according to Oppenheimer senior analyst Colin Rusch. \"Our understanding of what they\\'re doing tonight is not only showcasing the technology,',\n",
       "  'In this article, we discuss the 10 cheap EV stocks to buy now. If you want to skip our detailed analysis of these stocks, go directly to Forget Tesla: 5 Cheap EV Stocks to Buy Now. Last month, the European Commission, the executive branch of the European Union, outlined ambitious targets as part of a European Green Deal, mandating a 55% cut in carbon emissions by 2030, and 100% cut by 2035. As par',\n",
       "  'The federal government\\'s investigation into Tesla\\'s (TSLA) Autopilot system following a series of crashes in recent years is a major setback for the car company, one analyst says. \"This is definitely a bit of a black eye,\" Wedbush Securities analyst Dan Ives said on Yahoo Finance Live (video above). \"From an investor perspective, especially given it\\'s the gold standard from a technology perspectiv',\n",
       "  \"Puerto Rican technology company Bots Inc (OTCMKTS: BTZI) is making Dogecoin (CRYPTO: DOGE) a payment option for buying pre-owned Teslas. What Happened: According to the company's press release, it has enabled local car dealerships to start accepting DOGE and other cryptocurrencies as payment. Bots said it moved to offer Dogecoin merchant services after seeing demand from car dealers and manufactur\"]}"
      ]
     },
     "metadata": {},
     "execution_count": 16
    }
   ],
   "metadata": {}
  },
  {
   "cell_type": "markdown",
   "source": [
    "# 4.4 Summarize all articles"
   ],
   "metadata": {}
  },
  {
   "cell_type": "code",
   "execution_count": 17,
   "source": [
    "def summarize_text(articles):\n",
    "    summaries = []\n",
    "    for article in articles:\n",
    "        # Tokenize our text\n",
    "        # If you want to run the code in Tensorflow, please remember to return the particular tensors as simply as using return_tensors = 'tf'\n",
    "        input_ids = tokenizer(article, return_tensors=\"pt\").input_ids\n",
    "\n",
    "        # Generate the output (Here, we use beam search but you can also use any other strategy you like)\n",
    "        output = model.generate(\n",
    "            input_ids, \n",
    "            max_length=32, \n",
    "            num_beams=5, \n",
    "            early_stopping=True\n",
    "        )\n",
    "\n",
    "        # Finally, we can print the generated summary\n",
    "        summary = tokenizer.decode(output[0], skip_special_tokens=True)\n",
    "        summaries.append(summary)\n",
    "    return summaries"
   ],
   "outputs": [],
   "metadata": {}
  },
  {
   "cell_type": "code",
   "execution_count": 20,
   "source": [
    "summaries = {}\n",
    "for ticker in monitored_tickers:\n",
    "    summaries[ticker] = summarize_text(articles[ticker])"
   ],
   "outputs": [],
   "metadata": {}
  },
  {
   "cell_type": "code",
   "execution_count": 21,
   "source": [
    "summaries[\"TSLA\"]"
   ],
   "outputs": [
    {
     "output_type": "execute_result",
     "data": {
      "text/plain": [
       "['Musk is not a big fan of traditional advertising.',\n",
       " 'Tesla has not met its self-drive goal, CEO says.',\n",
       " 'Tesla faces probe into 11 crashes using software.',\n",
       " 'Clover Health, AMC Entertainment, Alibaba, ContextLogic among top stocks on Reddit.',\n",
       " 'Clover Health, ContextLogic, AMC Entertainment and Tesla among top stocks on Reddit.',\n",
       " 'Over 2,000 Benzinga visitors weigh in on clean energy stocks.',\n",
       " 'Oppenheimer says shortage of AI engineers is a concern.',\n",
       " 'European Commission has set ambitious targets for EV use. 5 cheap EV stocks to buy now',\n",
       " 'Federal probe is a \"bit of a black eye\" for Tesla, says Wedbush.',\n",
       " 'Dogecoin is being used as a payment option for pre-owned Teslas.']"
      ]
     },
     "metadata": {},
     "execution_count": 21
    }
   ],
   "metadata": {}
  },
  {
   "cell_type": "markdown",
   "source": [
    "# 5. Adding Sentiment Analysis"
   ],
   "metadata": {}
  },
  {
   "cell_type": "code",
   "execution_count": 22,
   "source": [
    "from transformers import pipeline\n",
    "sentiment = pipeline(\"sentiment-analysis\")"
   ],
   "outputs": [],
   "metadata": {}
  },
  {
   "cell_type": "code",
   "execution_count": 23,
   "source": [
    "scores = {}\n",
    "for ticker in monitored_tickers:\n",
    "    scores[ticker] = sentiment(summaries[ticker])"
   ],
   "outputs": [],
   "metadata": {}
  },
  {
   "cell_type": "code",
   "execution_count": 24,
   "source": [
    "scores"
   ],
   "outputs": [
    {
     "output_type": "execute_result",
     "data": {
      "text/plain": [
       "{'MNMD': [{'label': 'POSITIVE', 'score': 0.9979087710380554},\n",
       "  {'label': 'POSITIVE', 'score': 0.9979087710380554},\n",
       "  {'label': 'POSITIVE', 'score': 0.9773623943328857},\n",
       "  {'label': 'POSITIVE', 'score': 0.9986666440963745},\n",
       "  {'label': 'POSITIVE', 'score': 0.9979087710380554},\n",
       "  {'label': 'POSITIVE', 'score': 0.9972837567329407},\n",
       "  {'label': 'POSITIVE', 'score': 0.9986711144447327},\n",
       "  {'label': 'POSITIVE', 'score': 0.9657931923866272},\n",
       "  {'label': 'POSITIVE', 'score': 0.9979087710380554},\n",
       "  {'label': 'POSITIVE', 'score': 0.9979087710380554}],\n",
       " 'GME': [{'label': 'NEGATIVE', 'score': 0.9914673566818237},\n",
       "  {'label': 'NEGATIVE', 'score': 0.9939145445823669},\n",
       "  {'label': 'POSITIVE', 'score': 0.9939294457435608},\n",
       "  {'label': 'NEGATIVE', 'score': 0.9775029420852661},\n",
       "  {'label': 'POSITIVE', 'score': 0.9972121119499207},\n",
       "  {'label': 'POSITIVE', 'score': 0.9300052523612976},\n",
       "  {'label': 'NEGATIVE', 'score': 0.9613592624664307},\n",
       "  {'label': 'NEGATIVE', 'score': 0.9042304158210754},\n",
       "  {'label': 'NEGATIVE', 'score': 0.9674971103668213},\n",
       "  {'label': 'NEGATIVE', 'score': 0.7790958285331726}],\n",
       " 'TSLA': [{'label': 'NEGATIVE', 'score': 0.9992798566818237},\n",
       "  {'label': 'NEGATIVE', 'score': 0.9997046589851379},\n",
       "  {'label': 'NEGATIVE', 'score': 0.998734176158905},\n",
       "  {'label': 'POSITIVE', 'score': 0.9587069153785706},\n",
       "  {'label': 'POSITIVE', 'score': 0.9474504590034485},\n",
       "  {'label': 'POSITIVE', 'score': 0.9848671555519104},\n",
       "  {'label': 'NEGATIVE', 'score': 0.9978042244911194},\n",
       "  {'label': 'NEGATIVE', 'score': 0.9636876583099365},\n",
       "  {'label': 'NEGATIVE', 'score': 0.612249493598938},\n",
       "  {'label': 'NEGATIVE', 'score': 0.9962571263313293}]}"
      ]
     },
     "metadata": {},
     "execution_count": 24
    }
   ],
   "metadata": {}
  },
  {
   "cell_type": "code",
   "execution_count": 34,
   "source": [
    "print(summaries[\"TSLA\"][0], scores[\"TSLA\"][0][\"label\"], scores[\"TSLA\"][0][\"score\"])"
   ],
   "outputs": [
    {
     "output_type": "stream",
     "name": "stdout",
     "text": [
      "Musk is not a big fan of traditional advertising. NEGATIVE 0.9992798566818237\n"
     ]
    }
   ],
   "metadata": {}
  },
  {
   "cell_type": "markdown",
   "source": [
    "# Export to CSV"
   ],
   "metadata": {}
  },
  {
   "cell_type": "code",
   "execution_count": 73,
   "source": [
    "def create_output_array(summaries, scores, url):\n",
    "    output = []\n",
    "    for ticker in monitored_tickers:\n",
    "        for counter in range(len(summaries[ticker])):\n",
    "            output_this = [\n",
    "                ticker,\n",
    "                summaries[ticker][counter],\n",
    "                scores[ticker][counter][\"label\"],\n",
    "                scores[ticker][counter][\"score\"],\n",
    "                url[ticker][counter]\n",
    "            ]\n",
    "            output.append(output_this)\n",
    "    return output"
   ],
   "outputs": [],
   "metadata": {}
  },
  {
   "cell_type": "code",
   "execution_count": 77,
   "source": [
    "final_output = create_output_array(summaries, scores, cleaned_url)"
   ],
   "outputs": [],
   "metadata": {}
  },
  {
   "cell_type": "code",
   "execution_count": 78,
   "source": [
    "final_output.insert(0, [\"Ticker\", \"Summaries\", \"Label\", \"Confidence\", \"URL\"])"
   ],
   "outputs": [],
   "metadata": {}
  },
  {
   "cell_type": "code",
   "execution_count": 79,
   "source": [
    "import csv\n",
    "with open('assetsummaries.csv', mode='w', newline='') as f:\n",
    "    csv_writer = csv.writer(f, delimiter=',', quotechar='\"', quoting=csv.QUOTE_MINIMAL)\n",
    "    csv_writer.writerows(final_output)"
   ],
   "outputs": [],
   "metadata": {}
  },
  {
   "cell_type": "code",
   "execution_count": null,
   "source": [],
   "outputs": [],
   "metadata": {}
  }
 ],
 "metadata": {
  "interpreter": {
   "hash": "7c51d7ca3bc7524a30761ab2b850f4c2311bcd9230be7907a4d59c20719bff15"
  },
  "kernelspec": {
   "name": "python3",
   "display_name": "Python 3.8.11 64-bit ('stock-research-app': conda)"
  },
  "language_info": {
   "name": "python",
   "version": "3.8.11",
   "mimetype": "text/x-python",
   "codemirror_mode": {
    "name": "ipython",
    "version": 3
   },
   "pygments_lexer": "ipython3",
   "nbconvert_exporter": "python",
   "file_extension": ".py"
  }
 },
 "nbformat": 4,
 "nbformat_minor": 4
}